{
 "cells": [
  {
   "cell_type": "code",
   "execution_count": 1,
   "metadata": {},
   "outputs": [],
   "source": [
    "from PIL import Image\n",
    "import matplotlib.pyplot as plt"
   ]
  },
  {
   "cell_type": "code",
   "execution_count": 26,
   "metadata": {},
   "outputs": [
    {
     "data": {
      "image/png": "[encoded data removed]",
      "text/plain": [
       "<PIL.Image.Image image mode=RGBA size=16x8 at 0x221955C7280>"
      ]
     },
     "execution_count": 26,
     "metadata": {},
     "output_type": "execute_result"
    }
   ],
   "source": [
    "# slime\n",
    "img = Image.open('Original/master_0.png')\n",
    "\n",
    "# 调整图片大小\n",
    "slime_resized = img.resize((16, 16))\n",
    "\n",
    "slime_dead = slime_resized.resize((16, 8))\n",
    "\n",
    "slime_dead_final = Image.new(\"RGBA\",(16, 16), (0, 0, 0, 0))\n",
    "slime_dead_final.paste(slime_dead, (0, 8))\n",
    "# 保存调整大小后的图片\n",
    "# img_resized.save('output.jpg')\n",
    "slime_dead_final.save(\"slimeDead.png\")\n",
    "slime_resized.save(\"slime.png\")\n"
   ]
  },
  {
   "cell_type": "code",
   "execution_count": 2,
   "metadata": {},
   "outputs": [],
   "source": [
    "# bomb \n",
    "img = Image.open('Original/bomb_32x32.png')\n",
    "bomb_resized = img.resize((16, 16))\n",
    "bomb_resized.save(\"bomb.png\")"
   ]
  },
  {
   "cell_type": "code",
   "execution_count": 3,
   "metadata": {},
   "outputs": [],
   "source": [
    "# coin \n",
    "img = Image.open('coin.png')\n",
    "coin_resized = img.crop((16, 0, 32, 16))\n",
    "coin_resized.save(\"oneCoin.png\")"
   ]
  },
  {
   "cell_type": "code",
   "execution_count": 6,
   "metadata": {},
   "outputs": [],
   "source": [
    "# bg\n",
    "img = Image.open(\"bg.png\")\n",
    "img_resized = img.crop((0, 0, 640, 480))\n",
    "img_resized.save(\"bg.png\")"
   ]
  },
  {
   "cell_type": "code",
   "execution_count": 23,
   "metadata": {},
   "outputs": [
    {
     "data": {
      "text/plain": [
       "<matplotlib.image.AxesImage at 0x22196914d90>"
      ]
     },
     "execution_count": 23,
     "metadata": {},
     "output_type": "execute_result"
    },
    {
     "data": {
      "image/png": "[encoded data removed]",
      "text/plain": [
       "<Figure size 432x288 with 1 Axes>"
      ]
     },
     "metadata": {
      "needs_background": "light"
     },
     "output_type": "display_data"
    }
   ],
   "source": [
    "# explosions\n",
    "img = Image.open('Original/Explosions.png')\n",
    "# plt 画出图显示坐标\n",
    "plt.imshow(img)\n",
    "# 取出第一行\n",
    "explosion1 = img.crop((4, 2, 124, 22))\n",
    "plt.imshow(explosion1)"
   ]
  },
  {
   "cell_type": "code",
   "execution_count": 27,
   "metadata": {},
   "outputs": [],
   "source": [
    "# 把黑色像素设为透明\n",
    "explosion1 = explosion1.convert(\"RGBA\")\n",
    "datas = explosion1.getdata()\n",
    "newData = []\n",
    "for item in datas:\n",
    "    if item[0] == 0 and item[1] == 0 and item[2] == 0:\n",
    "        newData.append((0, 0, 0, 0))\n",
    "    else:\n",
    "        newData.append(item)\n",
    "\n",
    "explosion1.putdata(newData)\n",
    "explosion1 = explosion1.resize((150, 25))\n",
    "explosion1.save(\"Explosion1.png\")"
   ]
  },
  {
   "cell_type": "code",
   "execution_count": 7,
   "metadata": {},
   "outputs": [],
   "source": [
    "salaryman = Image.open(\"Original/Salaryman.png\")\n",
    "width = 24\n",
    "# salaryman = salaryman.resize((16 * 8, 16 * 3))\n",
    "salaryman_idle = salaryman.crop((0, 0, width, width))\n",
    "salaryman_jump = salaryman.crop((width * 7, width, width * 8, width * 2))\n",
    "salaryman_work = salaryman.crop((0, width, width * 8, width * 2))\n",
    "salaryman_death = salaryman.crop((width * 5, width, width * 6, width * 2))\n",
    "salaryman_idle.save(\"ErioIdle.png\")\n",
    "salaryman_work.save(\"ErioWalk.png\")\n",
    "salaryman_jump.save(\"ErioJump.png\")\n",
    "salaryman_death.save(\"ErioDeath.png\")"
   ]
  },
  {
   "cell_type": "code",
   "execution_count": 11,
   "metadata": {},
   "outputs": [],
   "source": [
    "# portal \n",
    "portal = Image.open(\"Original/Portals.png\")\n",
    "portal = portal.crop((0, 48 * 3, 32 * 4, 48 * 4))\n",
    "portal = portal.resize((32 * 4, 32))\n",
    "portal.save(\"Portal.png\")"
   ]
  },
  {
   "cell_type": "code",
   "execution_count": 12,
   "metadata": {},
   "outputs": [],
   "source": [
    "# naitei\n",
    "naitei = Image.open(\"Original/naitei.png\")\n",
    "# 等比例缩小1/3\n",
    "naitei = naitei.resize((naitei.size[0] // 3, naitei.size[1] // 3))\n",
    "naitei.save(\"naitei.png\")"
   ]
  },
  {
   "cell_type": "code",
   "execution_count": null,
   "metadata": {},
   "outputs": [],
   "source": []
  }
 ],
 "metadata": {
  "kernelspec": {
   "display_name": "newTest",
   "language": "python",
   "name": "python3"
  },
  "language_info": {
   "codemirror_mode": {
    "name": "ipython",
    "version": 3
   },
   "file_extension": ".py",
   "mimetype": "text/x-python",
   "name": "python",
   "nbconvert_exporter": "python",
   "pygments_lexer": "ipython3",
   "version": "3.9.7"
  },
  "orig_nbformat": 4
 },
 "nbformat": 4,
 "nbformat_minor": 2
}
